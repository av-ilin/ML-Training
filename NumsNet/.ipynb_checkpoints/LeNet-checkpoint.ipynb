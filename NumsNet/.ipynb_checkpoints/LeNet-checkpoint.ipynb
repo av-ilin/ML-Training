{
 "cells": [
  {
   "cell_type": "code",
   "execution_count": 1,
   "id": "1769b67c",
   "metadata": {},
   "outputs": [],
   "source": [
    "import torch\n",
    "import numpy as np\n",
    "import random\n",
    "\n",
    "random.seed(0)\n",
    "np.random.seed(0)\n",
    "torch.manual_seed(0)\n",
    "torch.cuda.manual_seed(0)\n",
    "torch.backends.cudnn.deterministic = True"
   ]
  },
  {
   "cell_type": "code",
   "execution_count": 2,
   "id": "57fa38d6",
   "metadata": {},
   "outputs": [
    {
     "name": "stdout",
     "output_type": "stream",
     "text": [
      "Downloading http://yann.lecun.com/exdb/mnist/train-images-idx3-ubyte.gz\n",
      "Downloading http://yann.lecun.com/exdb/mnist/train-images-idx3-ubyte.gz to ./MNIST/raw/train-images-idx3-ubyte.gz\n"
     ]
    },
    {
     "data": {
      "application/vnd.jupyter.widget-view+json": {
       "model_id": "e269198bd5d048aba80bfdc7954830a6",
       "version_major": 2,
       "version_minor": 0
      },
      "text/plain": [
       "  0%|          | 0/9912422 [00:00<?, ?it/s]"
      ]
     },
     "metadata": {},
     "output_type": "display_data"
    },
    {
     "name": "stdout",
     "output_type": "stream",
     "text": [
      "Extracting ./MNIST/raw/train-images-idx3-ubyte.gz to ./MNIST/raw\n",
      "\n",
      "Downloading http://yann.lecun.com/exdb/mnist/train-labels-idx1-ubyte.gz\n",
      "Downloading http://yann.lecun.com/exdb/mnist/train-labels-idx1-ubyte.gz to ./MNIST/raw/train-labels-idx1-ubyte.gz\n"
     ]
    },
    {
     "data": {
      "application/vnd.jupyter.widget-view+json": {
       "model_id": "bb540e346a374cd7bffeeddc60f4689c",
       "version_major": 2,
       "version_minor": 0
      },
      "text/plain": [
       "  0%|          | 0/28881 [00:00<?, ?it/s]"
      ]
     },
     "metadata": {},
     "output_type": "display_data"
    },
    {
     "name": "stdout",
     "output_type": "stream",
     "text": [
      "Extracting ./MNIST/raw/train-labels-idx1-ubyte.gz to ./MNIST/raw\n",
      "\n",
      "Downloading http://yann.lecun.com/exdb/mnist/t10k-images-idx3-ubyte.gz\n",
      "Downloading http://yann.lecun.com/exdb/mnist/t10k-images-idx3-ubyte.gz to ./MNIST/raw/t10k-images-idx3-ubyte.gz\n"
     ]
    },
    {
     "data": {
      "application/vnd.jupyter.widget-view+json": {
       "model_id": "ed2a5da542db4f3081d117aae516b036",
       "version_major": 2,
       "version_minor": 0
      },
      "text/plain": [
       "  0%|          | 0/1648877 [00:00<?, ?it/s]"
      ]
     },
     "metadata": {},
     "output_type": "display_data"
    },
    {
     "name": "stdout",
     "output_type": "stream",
     "text": [
      "Extracting ./MNIST/raw/t10k-images-idx3-ubyte.gz to ./MNIST/raw\n",
      "\n",
      "Downloading http://yann.lecun.com/exdb/mnist/t10k-labels-idx1-ubyte.gz\n",
      "Downloading http://yann.lecun.com/exdb/mnist/t10k-labels-idx1-ubyte.gz to ./MNIST/raw/t10k-labels-idx1-ubyte.gz\n"
     ]
    },
    {
     "data": {
      "application/vnd.jupyter.widget-view+json": {
       "model_id": "2dc1606ea8604a8dbcdeae6e9d9ab5db",
       "version_major": 2,
       "version_minor": 0
      },
      "text/plain": [
       "  0%|          | 0/4542 [00:00<?, ?it/s]"
      ]
     },
     "metadata": {},
     "output_type": "display_data"
    },
    {
     "name": "stdout",
     "output_type": "stream",
     "text": [
      "Extracting ./MNIST/raw/t10k-labels-idx1-ubyte.gz to ./MNIST/raw\n",
      "\n"
     ]
    }
   ],
   "source": [
    "import torchvision.datasets as data\n",
    "\n",
    "MNIST_train = data.MNIST('./', download=True, train=True)\n",
    "MNIST_test = data.MNIST('./', download=True, train=False)"
   ]
  },
  {
   "cell_type": "code",
   "execution_count": 29,
   "id": "85418131",
   "metadata": {},
   "outputs": [],
   "source": [
    "X_train = MNIST_train.data.unsqueeze(1).float()\n",
    "y_train = MNIST_train.targets\n",
    "X_test = MNIST_test.data.unsqueeze(1).float()\n",
    "y_test = MNIST_test.targets"
   ]
  },
  {
   "cell_type": "code",
   "execution_count": 32,
   "id": "6375bf0b",
   "metadata": {
    "scrolled": false
   },
   "outputs": [
    {
     "name": "stdout",
     "output_type": "stream",
     "text": [
      "tensor(5)\n"
     ]
    },
    {
     "data": {
      "image/png": "[encoded data removed]",
      "text/plain": [
       "<Figure size 432x288 with 1 Axes>"
      ]
     },
     "metadata": {
      "needs_background": "light"
     },
     "output_type": "display_data"
    }
   ],
   "source": [
    "import matplotlib.pyplot as plt\n",
    "\n",
    "print(y_train[0])\n",
    "plt.imshow(X_train[0][0])\n",
    "plt.show()"
   ]
  },
  {
   "cell_type": "code",
   "execution_count": 38,
   "id": "04a56230",
   "metadata": {},
   "outputs": [],
   "source": [
    "class Dataset():\n",
    "    def __init__(self, X, Y):\n",
    "        self.X_data = X\n",
    "        self.y_data = Y\n",
    "  \n",
    "    def __getitem__(self, index):\n",
    "        return self.X_data[index], self.y_data[index]\n",
    "\n",
    "    def __len__(self):\n",
    "        return len(self.X_data)"
   ]
  },
  {
   "cell_type": "code",
   "execution_count": 85,
   "id": "3c40d460",
   "metadata": {},
   "outputs": [],
   "source": [
    "from torch.utils.data import DataLoader\n",
    "\n",
    "batch_size = 100\n",
    "train_loader = DataLoader(Dataset(X_train, y_train), \n",
    "                              batch_size=batch_size, \n",
    "                              shuffle=True, \n",
    "                              num_workers=batch_size)"
   ]
  },
  {
   "cell_type": "markdown",
   "id": "f875d65a",
   "metadata": {},
   "source": [
    "________"
   ]
  },
  {
   "cell_type": "code",
   "execution_count": 84,
   "id": "f61f465b",
   "metadata": {},
   "outputs": [],
   "source": [
    "def train(net, train_loader, loss, optimizer, epoch=10):\n",
    "    accuracy = lambda preds, y: (preds.argmax(dim=1) == y).float().mean().data\n",
    "    mean = lambda l: sum(l) / len(l)\n",
    "\n",
    "    acc_train_hist = []\n",
    "    lss_train_hist = []\n",
    "    acc_test_hist = []\n",
    "    lss_test_hist = []\n",
    "\n",
    "    for epoch in range(epoch):\n",
    "        net.train()\n",
    "\n",
    "        acc_train_batch = []\n",
    "        lss_train_batch = []\n",
    "\n",
    "        for X_batch, y_batch in train_loader:\n",
    "            optimizer.zero_grad()\n",
    "            preds = net(X_batch)\n",
    "            loss_val = loss(preds, y_batch)\n",
    "            loss_val.backward()\n",
    "            optimizer.step()\n",
    "\n",
    "            lss_train_batch.append(loss_val.data)\n",
    "            acc_train_batch.append(accuracy(preds, y_batch))\n",
    "\n",
    "        net.eval()\n",
    "        test_preds = net.forward(X_test)\n",
    "\n",
    "        acc_train_hist.append(mean(acc_train_batch))   \n",
    "        lss_train_hist.append(mean(lss_train_batch))\n",
    "        acc_test_hist.append(accuracy(test_preds, y_test))\n",
    "        lss_test_hist.append(loss(test_preds, y_test.squeeze()).data)\n",
    "\n",
    "    net.eval()\n",
    "    stats = {'TrainA': acc_train_hist,\n",
    "             'TrainL': lss_train_hist,\n",
    "             'TestA': acc_test_hist,\n",
    "             'TestL': lss_test_hist}\n",
    "    return net, stats"
   ]
  },
  {
   "cell_type": "code",
   "execution_count": 112,
   "id": "f7ef58c2",
   "metadata": {},
   "outputs": [],
   "source": [
    "from sklearn.metrics import classification_report\n",
    "import matplotlib.pyplot as plt\n",
    "\n",
    "def report(net, stats, X_test, y_test):\n",
    "    preds = net.forward(X_test).argmax(dim=1).detach().numpy()\n",
    "    test = y_test.detach().numpy()\n",
    "    report = classification_report(test, preds)\n",
    "    print(report)\n",
    "    \n",
    "    fig, (ax1, ax2) = plt.subplots(nrows=1, ncols=2, figsize=(16, 4))\n",
    "    \n",
    "    ax1.plot(stats['TrainA'], label='Train Accuracy')\n",
    "    ax1.plot(stats['TestA'], label='Test Accuracy')\n",
    "    ax1.legend()\n",
    "    \n",
    "    ax2.plot(stats['TrainL'], label='Train Loss')\n",
    "    ax2.plot(stats['TestL'], label='Test Loss')\n",
    "    ax2.legend()"
   ]
  },
  {
   "cell_type": "code",
   "execution_count": 81,
   "id": "18b6be82",
   "metadata": {},
   "outputs": [],
   "source": [
    "class LeNet(torch.nn.Module):\n",
    "    def __init__(self):\n",
    "        super(LeNet, self).__init__()\n",
    "        \n",
    "        self.conv1 = torch.nn.Conv2d(in_channels=1, out_channels=6, kernel_size=5, padding=2)\n",
    "        self.actv1 = torch.nn.Tanh()\n",
    "        self.pool1 = torch.nn.AvgPool2d(kernel_size=2, stride=2)\n",
    "        \n",
    "        self.conv2 = torch.nn.Conv2d(in_channels=6, out_channels=16, kernel_size=5, padding=0)\n",
    "        self.actv2 = torch.nn.Tanh()\n",
    "        self.pool2 = torch.nn.AvgPool2d(kernel_size=2, stride=2)\n",
    "        \n",
    "        self.fc1 = torch.nn.Linear(400, 120)\n",
    "        self.actv3 = torch.nn.Tanh()\n",
    "        \n",
    "        self.fc2 = torch.nn.Linear(120, 84)\n",
    "        self.actv4 = torch.nn.Tanh()\n",
    "        \n",
    "        self.fc3 = torch.nn.Linear(84, 10)\n",
    "        \n",
    "    def forward(self, x):\n",
    "        x = self.conv1(x)\n",
    "        x = self.actv1(x)\n",
    "        x = self.pool1(x)\n",
    "                \n",
    "        x = self.conv2(x)\n",
    "        x = self.actv2(x)\n",
    "        x = self.pool2(x)\n",
    "                \n",
    "        x = x.view(x.size(0), x.size(1) * x.size(2) * x.size(3))\n",
    "        \n",
    "        x = self.fc1(x)\n",
    "        x = self.actv3(x)\n",
    "        \n",
    "        x = self.fc2(x)\n",
    "        x = self.actv4(x)\n",
    "        \n",
    "        x = self.fc3(x)\n",
    "        return x"
   ]
  },
  {
   "cell_type": "code",
   "execution_count": 82,
   "id": "b5add361",
   "metadata": {},
   "outputs": [],
   "source": [
    "class LeNetPlus(torch.nn.Module):\n",
    "    def __init__(self):\n",
    "        super(LeNetPlus, self).__init__()\n",
    "        \n",
    "        self.conv1 = torch.nn.Conv2d(in_channels=1, out_channels=6, kernel_size=5, padding=2)\n",
    "        self.actv1 = torch.nn.ReLU()\n",
    "        self.pool1 = torch.nn.MaxPool2d(kernel_size=2, stride=2)\n",
    "        \n",
    "        self.conv2 = torch.nn.Conv2d(in_channels=6, out_channels=16, kernel_size=5, padding=0)\n",
    "        self.actv2 = torch.nn.ReLU()\n",
    "        self.pool2 = torch.nn.MaxPool2d(kernel_size=2, stride=2)\n",
    "        \n",
    "        self.fc1 = torch.nn.Linear(400, 120)\n",
    "        self.actv3 = torch.nn.ReLU()\n",
    "        \n",
    "        self.fc2 = torch.nn.Linear(120, 84)\n",
    "        self.actv4 = torch.nn.ReLU()\n",
    "        \n",
    "        self.fc3 = torch.nn.Linear(84, 10)\n",
    "        \n",
    "    def forward(self, x):\n",
    "        x = self.conv1(x)\n",
    "        x = self.actv1(x)\n",
    "        x = self.pool1(x)\n",
    "                \n",
    "        x = self.conv2(x)\n",
    "        x = self.actv2(x)\n",
    "        x = self.pool2(x)\n",
    "                \n",
    "        x = x.view(x.size(0), x.size(1) * x.size(2) * x.size(3))\n",
    "        \n",
    "        x = self.fc1(x)\n",
    "        x = self.actv3(x)\n",
    "        x = self.fc2(x)\n",
    "        x = self.actv4(x)\n",
    "        x = self.fc3(x)\n",
    "        return x"
   ]
  },
  {
   "cell_type": "code",
   "execution_count": null,
   "id": "fcf798f4",
   "metadata": {},
   "outputs": [
    {
     "name": "stderr",
     "output_type": "stream",
     "text": [
      "/home/avilin/anaconda3/lib/python3.9/site-packages/torch/utils/data/dataloader.py:563: UserWarning: This DataLoader will create 100 worker processes in total. Our suggested max number of worker in current system is 2, which is smaller than what this DataLoader is going to create. Please be aware that excessive worker creation might get DataLoader running slow or even freeze, lower the worker number to avoid potential slowness/freeze if necessary.\n",
      "  warnings.warn(_create_warning_msg(\n"
     ]
    }
   ],
   "source": [
    "device = torch.device('cuda:0' if torch.cuda.is_available() else 'cpu')\n",
    "net = LeNet().to(device)\n",
    "loss = torch.nn.CrossEntropyLoss()\n",
    "optimizer = torch.optim.Adam(net.parameters(), lr=1e-3, weight_decay=1e-5)\n",
    "\n",
    "net, stats = train(net, train_loader, loss, optimizer, epoch=10)\n",
    "report(net, stats, X_test, y_test)"
   ]
  },
  {
   "cell_type": "code",
   "execution_count": 90,
   "id": "39a6760a",
   "metadata": {},
   "outputs": [
    {
     "name": "stdout",
     "output_type": "stream",
     "text": [
      "tensor([4])\n"
     ]
    },
    {
     "data": {
      "image/png": "[encoded data removed]",
      "text/plain": [
       "<Figure size 432x288 with 1 Axes>"
      ]
     },
     "metadata": {
      "needs_background": "light"
     },
     "output_type": "display_data"
    }
   ],
   "source": [
    "print(net.forward(X_test[300:301]).argmax(dim=1))\n",
    "plt.imshow(X_test[300][0])\n",
    "plt.show()"
   ]
  },
  {
   "cell_type": "code",
   "execution_count": 113,
   "id": "33548b40",
   "metadata": {},
   "outputs": [],
   "source": [
    "torch.save(net, 'LeNet.pth')"
   ]
  }
 ],
 "metadata": {
  "kernelspec": {
   "display_name": "Python 3 (ipykernel)",
   "language": "python",
   "name": "python3"
  },
  "language_info": {
   "codemirror_mode": {
    "name": "ipython",
    "version": 3
   },
   "file_extension": ".py",
   "mimetype": "text/x-python",
   "name": "python",
   "nbconvert_exporter": "python",
   "pygments_lexer": "ipython3",
   "version": "3.9.12"
  }
 },
 "nbformat": 4,
 "nbformat_minor": 5
}
