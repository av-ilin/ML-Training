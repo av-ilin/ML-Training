{
  "nbformat": 4,
  "nbformat_minor": 0,
  "metadata": {
    "colab": {
      "provenance": [],
      "collapsed_sections": []
    },
    "kernelspec": {
      "name": "python3",
      "display_name": "Python 3"
    },
    "language_info": {
      "name": "python"
    },
    "accelerator": "GPU",
    "gpuClass": "standard"
  },
  "cells": [
    {
      "cell_type": "code",
      "execution_count": 24,
      "metadata": {
        "id": "BGlspy5sAXGN"
      },
      "outputs": [],
      "source": [
        "import torch\n",
        "import random\n",
        "import numpy as np\n",
        "\n",
        "random.seed(0)\n",
        "np.random.seed(0)\n",
        "torch.manual_seed(0)\n",
        "torch.cuda.manual_seed(0)\n",
        "torch.backends.cudnn.deterministic = True"
      ]
    },
    {
      "cell_type": "markdown",
      "source": [
        "# Data"
      ],
      "metadata": {
        "id": "qC6WLFccEkQF"
      }
    },
    {
      "cell_type": "code",
      "source": [
        "import torchvision.datasets as data\n",
        "\n",
        "CIFAR_train = data.CIFAR10('./', download=True, train=True)\n",
        "CIFAR_test = data.CIFAR10('./', download=True, train=False)"
      ],
      "metadata": {
        "colab": {
          "base_uri": "https://localhost:8080/"
        },
        "id": "Mkx26lyyAvBS",
        "outputId": "94ac1db5-ff15-4174-b8a0-b5d18be132b4"
      },
      "execution_count": 25,
      "outputs": [
        {
          "output_type": "stream",
          "name": "stdout",
          "text": [
            "Files already downloaded and verified\n",
            "Files already downloaded and verified\n"
          ]
        }
      ]
    },
    {
      "cell_type": "code",
      "source": [
        "X_train = torch.FloatTensor(CIFAR_train.data).permute(0, 3, 1, 2) / 255\n",
        "y_train = torch.tensor(CIFAR_train.targets)\n",
        "X_test = torch.FloatTensor(CIFAR_test.data).permute(0, 3, 1, 2) / 255\n",
        "y_test = torch.tensor(CIFAR_test.targets)"
      ],
      "metadata": {
        "id": "27KS8CNSBHtS"
      },
      "execution_count": 26,
      "outputs": []
    },
    {
      "cell_type": "code",
      "source": [
        "import matplotlib.pyplot as plt\n",
        "\n",
        "print(CIFAR_train.classes[int(y_train[0])])\n",
        "plt.imshow(X_train[0].permute(1, 2, 0))\n",
        "plt.show()"
      ],
      "metadata": {
        "colab": {
          "base_uri": "https://localhost:8080/",
          "height": 283
        },
        "id": "VqrdeHVOBmtr",
        "outputId": "83ce9ebe-1cf8-4fba-9576-7b6661e123fc"
      },
      "execution_count": 27,
      "outputs": [
        {
          "output_type": "stream",
          "name": "stdout",
          "text": [
            "frog\n"
          ]
        },
        {
          "output_type": "display_data",
          "data": {
            "text/plain": [
              "<Figure size 432x288 with 1 Axes>"
            ],
            "image/png": "[encoded data removed]"
          },
          "metadata": {
            "needs_background": "light"
          }
        }
      ]
    },
    {
      "cell_type": "code",
      "source": [
        "class Dataset():\n",
        "    def __init__(self, X, Y):\n",
        "        self.X = X\n",
        "        self.Y = Y\n",
        "\n",
        "    def __getitem__(self, idx):\n",
        "        return self.X[idx], self.Y[idx]\n",
        "\n",
        "    def __len__(self):\n",
        "        return len(self.X)"
      ],
      "metadata": {
        "id": "n8Y96xXlCttX"
      },
      "execution_count": 28,
      "outputs": []
    },
    {
      "cell_type": "code",
      "source": [
        "from torch.utils.data import DataLoader\n",
        "\n",
        "batch_size = 64\n",
        "\n",
        "train_loader = DataLoader(Dataset(X_train, y_train), \n",
        "                          batch_size = batch_size,\n",
        "                          shuffle=True,\n",
        "                          num_workers=2)\n",
        "\n",
        "test_loader = DataLoader(Dataset(X_test, y_test), \n",
        "                          batch_size = batch_size,\n",
        "                          shuffle=True,\n",
        "                          num_workers=2)"
      ],
      "metadata": {
        "id": "1ANKjAfFD3KN"
      },
      "execution_count": 29,
      "outputs": []
    },
    {
      "cell_type": "markdown",
      "source": [
        "# Train Functions"
      ],
      "metadata": {
        "id": "OHOpAUa-Em4b"
      }
    },
    {
      "cell_type": "code",
      "source": [
        "def train(net, train_loader, test_loader, nepoch=10):\n",
        "    device = torch.device('cuda:0' if torch.cuda.is_available() else 'cpu')\n",
        "    net = net.to(device)\n",
        "    loss = torch.nn.CrossEntropyLoss()\n",
        "    optimizer = torch.optim.Adam(net.parameters(), amsgrad=True, lr=1e-3, weight_decay=1e-5)\n",
        "    scheduler = torch.optim.lr_scheduler.StepLR(optimizer, step_size=7, gamma=0.1)\n",
        "\n",
        "    loss_hist = {'test': [], 'train': []}\n",
        "    accy_hist = {'test': [], 'train': []}\n",
        "\n",
        "    print('{:<7s}|{:^20s}|{:^20s}|'.format('', 'Train', 'Test'))\n",
        "    print('{:<7s}|{:>10s}{:>10s}|{:>10s}{:>10s}|'.format('Epoch', 'Loss', 'Acc', 'Loss', 'Acc'))\n",
        "    print('-' * 50)\n",
        "\n",
        "    for epoch in range(nepoch):\n",
        "        for phase in ['train', 'test']:\n",
        "            if phase == 'train':\n",
        "                dataloader = train_loader\n",
        "                scheduler.step()\n",
        "                net.train()\n",
        "            else:\n",
        "                dataloader = test_loader\n",
        "                net.eval()\n",
        "            \n",
        "            epoch_loss = 0\n",
        "            epoch_accy = 0\n",
        "\n",
        "            for X_batch, y_batch in dataloader:\n",
        "                X_batch = X_batch.to(device)\n",
        "                y_batch = y_batch.to(device)\n",
        "\n",
        "                optimizer.zero_grad()\n",
        "                preds = net(X_batch)\n",
        "                loss_val = loss(preds, y_batch)\n",
        "                \n",
        "                if phase == 'train':\n",
        "                    loss_val.backward()\n",
        "                    optimizer.step()\n",
        "                \n",
        "                preds = preds.argmax(dim=1)\n",
        "\n",
        "                epoch_loss += loss_val.item()\n",
        "                epoch_accy += (preds == y_batch.data).float().mean().data.cpu().numpy()\n",
        "\n",
        "            epoch_loss /= len(dataloader)\n",
        "            epoch_accy /= len(dataloader)\n",
        "\n",
        "            if phase == 'train':\n",
        "                print('{:>3d}/{:>3d}|{:>10.4f}{:>10.4f}|'.format(epoch + 1, nepoch, epoch_loss, epoch_accy), end='')\n",
        "            else:\n",
        "                print('{:>10.4f}{:>10.4f}|'.format(epoch_loss, epoch_accy))\n",
        "\n",
        "            loss_hist[phase].append(epoch_loss)\n",
        "            accy_hist[phase].append(epoch_accy)\n",
        "\n",
        "    hist = {'loss': loss_hist, 'accy': accy_hist}\n",
        "    print('-' * 50)\n",
        "    return net, hist"
      ],
      "metadata": {
        "id": "JlBLtDxjEbAP"
      },
      "execution_count": 30,
      "outputs": []
    },
    {
      "cell_type": "code",
      "source": [
        "from sklearn.metrics import classification_report\n",
        "import matplotlib.pyplot as plt\n",
        "\n",
        "def report(net, stats, test_loader):\n",
        "    net = net.cpu()\n",
        "    test = []\n",
        "    preds = []\n",
        "\n",
        "    for X_batch, y_batch in test_loader:\n",
        "        preds += list(net.forward(X_batch).argmax(dim=1).detach().numpy())\n",
        "        test += list(y_batch.detach().numpy())\n",
        "    \n",
        "    report = classification_report(test, preds)\n",
        "    print(report)\n",
        "    \n",
        "    fig, (ax1, ax2) = plt.subplots(nrows=1, ncols=2, figsize=(16, 4))\n",
        "    \n",
        "    ax1.plot(stats['accy']['train'], label='Train Accuracy')\n",
        "    ax1.plot(stats['accy']['test'], label='Test Accuracy')\n",
        "    ax1.legend()\n",
        "    \n",
        "    ax2.plot(stats['loss']['train'], label='Train Loss')\n",
        "    ax2.plot(stats['loss']['test'], label='Test Loss')\n",
        "    ax2.legend()"
      ],
      "metadata": {
        "id": "hZ9-3HpbW2uy"
      },
      "execution_count": 31,
      "outputs": []
    },
    {
      "cell_type": "markdown",
      "source": [
        "# Network"
      ],
      "metadata": {
        "id": "sBj8ehCGXgHZ"
      }
    },
    {
      "cell_type": "code",
      "source": [
        "class CifarNet(torch.nn.Module):\n",
        "    def __init__(self):\n",
        "        super(CifarNet, self).__init__()\n",
        "\n",
        "        self.bn0 = torch.nn.BatchNorm2d(num_features=3)\n",
        "        self.conv1 = torch.nn.Conv2d(in_channels=3, out_channels=64, kernel_size=3, padding=1)\n",
        "        self.act1 = torch.nn.ReLU()\n",
        "        self.bn1 =  torch.nn.BatchNorm2d(num_features=64)\n",
        "        self.pool1 = torch.nn.MaxPool2d(kernel_size=2, stride=2)\n",
        "\n",
        "        self.conv2 = torch.nn.Conv2d(in_channels=64, out_channels=128, kernel_size=3, padding=1)\n",
        "        self.act2 = torch.nn.ReLU()\n",
        "        self.bn2 =  torch.nn.BatchNorm2d(num_features=128)\n",
        "        self.pool2 = torch.nn.MaxPool2d(kernel_size=2, stride=2)\n",
        "\n",
        "        self.conv3 = torch.nn.Conv2d(in_channels=128, out_channels=256, kernel_size=3, padding=1)\n",
        "        self.act3 = torch.nn.ReLU()\n",
        "        self.bn3 =  torch.nn.BatchNorm2d(num_features=256)\n",
        "        self.dp1 = torch.nn.Dropout2d(0.25)\n",
        "\n",
        "        self.fc1 = torch.nn.Linear(8 * 8 * 256, 256)\n",
        "        self.act4 = torch.nn.ReLU()\n",
        "        self.bn4 =  torch.nn.BatchNorm1d(num_features=256)\n",
        "\n",
        "        self.fc2 = torch.nn.Linear(256, 64)\n",
        "        self.act5 = torch.nn.ReLU()\n",
        "        self.bn5 =  torch.nn.BatchNorm1d(num_features=64)\n",
        "        self.dp2 = torch.nn.Dropout(0.5)\n",
        "\n",
        "        self.fc3 = torch.nn.Linear(64, 10)\n",
        "\n",
        "    def forward(self, x):\n",
        "        x = self.bn0(x)\n",
        "        x = self.conv1(x)\n",
        "        x = self.act1(x)\n",
        "        x = self.bn1(x)\n",
        "        x = self.pool1(x)\n",
        "        \n",
        "        x = self.conv2(x)\n",
        "        x = self.act2(x)\n",
        "        x = self.bn2(x)\n",
        "        x = self.pool2(x)\n",
        "        \n",
        "        x = self.conv3(x)\n",
        "        x = self.act3(x)\n",
        "        x = self.bn3(x)\n",
        "        x = self.dp1(x)\n",
        "\n",
        "        x = x.view(x.size(0), x.size(1) * x.size(2) * x.size(3))\n",
        "        x = self.fc1(x)\n",
        "        x = self.act4(x)\n",
        "        x = self.bn4(x)\n",
        "\n",
        "        x = self.fc2(x)\n",
        "        x = self.act5(x)\n",
        "        x = self.bn5(x)\n",
        "        x = self.dp2(x)\n",
        "\n",
        "        x = self.fc3(x)\n",
        "        return x"
      ],
      "metadata": {
        "id": "glTpnkyCXens"
      },
      "execution_count": 32,
      "outputs": []
    },
    {
      "cell_type": "markdown",
      "source": [
        "# Results"
      ],
      "metadata": {
        "id": "Pm7KlpCPazja"
      }
    },
    {
      "cell_type": "code",
      "source": [
        "net, stats = train(CifarNet(), train_loader, test_loader, nepoch=10)\n",
        "report(net, stats, test_loader)"
      ],
      "metadata": {
        "colab": {
          "base_uri": "https://localhost:8080/",
          "height": 791
        },
        "id": "1jTasRUtayja",
        "outputId": "264758c8-0ccb-4e19-a9e2-074f68da1bc7"
      },
      "execution_count": 34,
      "outputs": [
        {
          "output_type": "stream",
          "name": "stdout",
          "text": [
            "       |       Train        |        Test        |\n",
            "Epoch  |      Loss       Acc|      Loss       Acc|\n",
            "--------------------------------------------------\n",
            "  1/ 10|    1.2410    0.5665|    0.8539    0.7005|\n",
            "  2/ 10|    0.8413    0.7171|    0.6999    0.7594|\n",
            "  3/ 10|    0.6708    0.7745|    0.6511    0.7762|\n",
            "  4/ 10|    0.5318    0.8218|    0.6110    0.7941|\n",
            "  5/ 10|    0.4248    0.8596|    0.6035    0.7973|\n",
            "  6/ 10|    0.3280    0.8904|    0.6342    0.7979|\n",
            "  7/ 10|    0.1822    0.9428|    0.5634    0.8198|\n",
            "  8/ 10|    0.1401    0.9582|    0.5636    0.8201|\n",
            "  9/ 10|    0.1140    0.9667|    0.5757    0.8219|\n",
            " 10/ 10|    0.0964    0.9736|    0.5818    0.8236|\n",
            "--------------------------------------------------\n",
            "              precision    recall  f1-score   support\n",
            "\n",
            "           0       0.82      0.85      0.84      1000\n",
            "           1       0.90      0.92      0.91      1000\n",
            "           2       0.75      0.75      0.75      1000\n",
            "           3       0.65      0.69      0.67      1000\n",
            "           4       0.83      0.80      0.81      1000\n",
            "           5       0.76      0.75      0.76      1000\n",
            "           6       0.83      0.88      0.85      1000\n",
            "           7       0.90      0.83      0.86      1000\n",
            "           8       0.92      0.89      0.90      1000\n",
            "           9       0.90      0.88      0.89      1000\n",
            "\n",
            "    accuracy                           0.82     10000\n",
            "   macro avg       0.83      0.82      0.82     10000\n",
            "weighted avg       0.83      0.82      0.82     10000\n",
            "\n"
          ]
        },
        {
          "output_type": "display_data",
          "data": {
            "text/plain": [
              "<Figure size 1152x288 with 2 Axes>"
            ],
            "image/png": "[encoded data removed]"
          },
          "metadata": {
            "needs_background": "light"
          }
        }
      ]
    },
    {
      "cell_type": "code",
      "source": [
        "torch.save(net, 'CifarNet.pth')"
      ],
      "metadata": {
        "id": "KxDxoeboax8e"
      },
      "execution_count": 35,
      "outputs": []
    }
  ]
}