{
 "cells": [
  {
   "cell_type": "code",
   "execution_count": 2,
   "metadata": {
    "id": "BGlspy5sAXGN"
   },
   "outputs": [],
   "source": [
    "import torch\n",
    "import random\n",
    "import numpy as np\n",
    "\n",
    "random.seed(0)\n",
    "np.random.seed(0)\n",
    "torch.manual_seed(0)\n",
    "torch.cuda.manual_seed(0)\n",
    "torch.backends.cudnn.deterministic = True"
   ]
  },
  {
   "cell_type": "markdown",
   "metadata": {
    "id": "qC6WLFccEkQF"
   },
   "source": [
    "# Data"
   ]
  },
  {
   "cell_type": "code",
   "execution_count": 3,
   "metadata": {
    "colab": {
     "base_uri": "https://localhost:8080/"
    },
    "id": "Mkx26lyyAvBS",
    "outputId": "f51953dc-073f-4d2f-92cc-1eeba7e25746"
   },
   "outputs": [
    {
     "name": "stdout",
     "output_type": "stream",
     "text": [
      "Files already downloaded and verified\n",
      "Files already downloaded and verified\n"
     ]
    }
   ],
   "source": [
    "import torchvision.datasets as data\n",
    "\n",
    "CIFAR_train = data.CIFAR10('./', download=True, train=True)\n",
    "CIFAR_test = data.CIFAR10('./', download=True, train=False)"
   ]
  },
  {
   "cell_type": "code",
   "execution_count": 4,
   "metadata": {
    "id": "27KS8CNSBHtS"
   },
   "outputs": [],
   "source": [
    "X_train = torch.FloatTensor(CIFAR_train.data).permute(0, 3, 1, 2) / 255\n",
    "y_train = torch.tensor(CIFAR_train.targets)\n",
    "X_test = torch.FloatTensor(CIFAR_test.data).permute(0, 3, 1, 2) / 255\n",
    "y_test = torch.tensor(CIFAR_test.targets)"
   ]
  },
  {
   "cell_type": "code",
   "execution_count": 5,
   "metadata": {
    "colab": {
     "base_uri": "https://localhost:8080/",
     "height": 283
    },
    "id": "VqrdeHVOBmtr",
    "outputId": "6a171d36-41a3-40d5-c5d4-172ee7bf7479"
   },
   "outputs": [
    {
     "name": "stdout",
     "output_type": "stream",
     "text": [
      "frog\n"
     ]
    },
    {
     "data": {
      "image/png": "[encoded data removed]",
      "text/plain": [
       "<Figure size 432x288 with 1 Axes>"
      ]
     },
     "metadata": {
      "needs_background": "light"
     },
     "output_type": "display_data"
    }
   ],
   "source": [
    "import matplotlib.pyplot as plt\n",
    "\n",
    "print(CIFAR_train.classes[int(y_train[0])])\n",
    "plt.imshow(X_train[0].permute(1, 2, 0))\n",
    "plt.show()"
   ]
  },
  {
   "cell_type": "code",
   "execution_count": 6,
   "metadata": {
    "id": "n8Y96xXlCttX"
   },
   "outputs": [],
   "source": [
    "class Dataset():\n",
    "    def __init__(self, X, Y):\n",
    "        self.X = X\n",
    "        self.Y = Y\n",
    "\n",
    "    def __getitem__(self, idx):\n",
    "        return self.X[idx], self.Y[idx]\n",
    "\n",
    "    def __len__(self):\n",
    "        return len(self.X)"
   ]
  },
  {
   "cell_type": "code",
   "execution_count": 7,
   "metadata": {
    "id": "1ANKjAfFD3KN"
   },
   "outputs": [],
   "source": [
    "from torch.utils.data import DataLoader\n",
    "\n",
    "batch_size = 64\n",
    "\n",
    "train_loader = DataLoader(Dataset(X_train, y_train), \n",
    "                          batch_size = batch_size,\n",
    "                          shuffle=True,\n",
    "                          num_workers=2)\n",
    "\n",
    "test_loader = DataLoader(Dataset(X_test, y_test), \n",
    "                          batch_size = batch_size,\n",
    "                          shuffle=True,\n",
    "                          num_workers=2)"
   ]
  },
  {
   "cell_type": "markdown",
   "metadata": {
    "id": "OHOpAUa-Em4b"
   },
   "source": [
    "# Train Functions"
   ]
  },
  {
   "cell_type": "code",
   "execution_count": 8,
   "metadata": {
    "id": "JlBLtDxjEbAP"
   },
   "outputs": [],
   "source": [
    "def train(net, train_loader, test_loader, nepoch=10):\n",
    "    device = torch.device('cuda:0' if torch.cuda.is_available() else 'cpu')\n",
    "    net = net.to(device)\n",
    "    loss = torch.nn.CrossEntropyLoss()\n",
    "    optimizer = torch.optim.Adam(net.parameters(), amsgrad=True, lr=1e-3, weight_decay=1e-5)\n",
    "    scheduler = torch.optim.lr_scheduler.StepLR(optimizer, step_size=7, gamma=0.1)\n",
    "\n",
    "    loss_hist = {'test': [], 'train': []}\n",
    "    accy_hist = {'test': [], 'train': []}\n",
    "\n",
    "    print('{:<7s}|{:^20s}|{:^20s}|'.format('', 'Train', 'Test'))\n",
    "    print('{:<7s}|{:>10s}{:>10s}|{:>10s}{:>10s}|'.format('Epoch', 'Loss', 'Acc', 'Loss', 'Acc'))\n",
    "    print('-' * 50)\n",
    "\n",
    "    for epoch in range(nepoch):\n",
    "        for phase in ['train', 'test']:\n",
    "            if phase == 'train':\n",
    "                dataloader = train_loader\n",
    "                scheduler.step()\n",
    "                net.train()\n",
    "            else:\n",
    "                dataloader = test_loader\n",
    "                net.eval()\n",
    "            \n",
    "            epoch_loss = 0\n",
    "            epoch_accy = 0\n",
    "\n",
    "            for X_batch, y_batch in dataloader:\n",
    "                X_batch = X_batch.to(device)\n",
    "                y_batch = y_batch.to(device)\n",
    "\n",
    "                optimizer.zero_grad()\n",
    "                preds = net(X_batch)\n",
    "                loss_val = loss(preds, y_batch)\n",
    "                \n",
    "                if phase == 'train':\n",
    "                    loss_val.backward()\n",
    "                    optimizer.step()\n",
    "                \n",
    "                preds = preds.argmax(dim=1)\n",
    "\n",
    "                epoch_loss += loss_val.item()\n",
    "                epoch_accy += (preds == y_batch.data).float().mean().data.cpu().numpy()\n",
    "\n",
    "            epoch_loss /= len(dataloader)\n",
    "            epoch_accy /= len(dataloader)\n",
    "\n",
    "            if phase == 'train':\n",
    "                print('{:>3d}/{:>3d}|{:>10.4f}{:>10.4f}|'.format(epoch + 1, nepoch, epoch_loss, epoch_accy), end='')\n",
    "            else:\n",
    "                print('{:>10.4f}{:>10.4f}|'.format(epoch_loss, epoch_accy))\n",
    "\n",
    "            loss_hist[phase].append(epoch_loss)\n",
    "            accy_hist[phase].append(epoch_accy)\n",
    "\n",
    "    hist = {'loss': loss_hist, 'accy': accy_hist}\n",
    "    print('-' * 50)\n",
    "    return net, hist"
   ]
  },
  {
   "cell_type": "code",
   "execution_count": 9,
   "metadata": {
    "id": "hZ9-3HpbW2uy"
   },
   "outputs": [],
   "source": [
    "from sklearn.metrics import classification_report\n",
    "import matplotlib.pyplot as plt\n",
    "\n",
    "def report(net, stats, X_test, y_test):\n",
    "    net = net.cpu()\n",
    "    preds = net.forward(X_test).argmax(dim=1).detach().numpy()\n",
    "    test = y_test.detach().numpy()\n",
    "    report = classification_report(test, preds)\n",
    "    print(report)\n",
    "    \n",
    "    fig, (ax1, ax2) = plt.subplots(nrows=1, ncols=2, figsize=(16, 4))\n",
    "    \n",
    "    ax1.plot(stats['accy']['train'], label='Train Accuracy')\n",
    "    ax1.plot(stats['accy']['test'], label='Test Accuracy')\n",
    "    ax1.legend()\n",
    "    \n",
    "    ax2.plot(stats['loss']['train'], label='Train Loss')\n",
    "    ax2.plot(stats['loss']['test'], label='Test Loss')\n",
    "    ax2.legend()"
   ]
  },
  {
   "cell_type": "markdown",
   "metadata": {
    "id": "sBj8ehCGXgHZ"
   },
   "source": [
    "# Network"
   ]
  },
  {
   "cell_type": "code",
   "execution_count": 10,
   "metadata": {
    "id": "glTpnkyCXens"
   },
   "outputs": [],
   "source": [
    "class CifarNet(torch.nn.Module):\n",
    "    def __init__(self):\n",
    "        super(CifarNet, self).__init__()\n",
    "\n",
    "        self.bn0 = torch.nn.BatchNorm2d(num_features=3)\n",
    "        self.conv1 = torch.nn.Conv2d(in_channels=3, out_channels=64, kernel_size=3, padding=1)\n",
    "        self.act1 = torch.nn.ReLU()\n",
    "        self.bn1 =  torch.nn.BatchNorm2d(num_features=64)\n",
    "        self.pool1 = torch.nn.MaxPool2d(kernel_size=2, stride=2)\n",
    "\n",
    "        self.conv2 = torch.nn.Conv2d(in_channels=64, out_channels=128, kernel_size=3, padding=1)\n",
    "        self.act2 = torch.nn.ReLU()\n",
    "        self.bn2 =  torch.nn.BatchNorm2d(num_features=128)\n",
    "        self.pool2 = torch.nn.MaxPool2d(kernel_size=2, stride=2)\n",
    "\n",
    "        self.conv3 = torch.nn.Conv2d(in_channels=128, out_channels=256, kernel_size=3, padding=1)\n",
    "        self.act3 = torch.nn.ReLU()\n",
    "        self.bn3 =  torch.nn.BatchNorm2d(num_features=256)\n",
    "        self.dp1 = torch.nn.Dropout2d(0.25)\n",
    "\n",
    "        self.fc1 = torch.nn.Linear(8 * 8 * 256, 256)\n",
    "        self.act4 = torch.nn.ReLU()\n",
    "        self.bn4 =  torch.nn.BatchNorm1d(num_features=256)\n",
    "\n",
    "        self.fc2 = torch.nn.Linear(256, 64)\n",
    "        self.act5 = torch.nn.ReLU()\n",
    "        self.bn5 =  torch.nn.BatchNorm1d(num_features=64)\n",
    "        self.dp2 = torch.nn.Dropout(0.5)\n",
    "\n",
    "        self.fc3 = torch.nn.Linear(64, 10)\n",
    "\n",
    "    def forward(self, x):\n",
    "        x = self.bn0(x)\n",
    "        x = self.conv1(x)\n",
    "        x = self.act1(x)\n",
    "        x = self.bn1(x)\n",
    "        x = self.pool1(x)\n",
    "        \n",
    "        x = self.conv2(x)\n",
    "        x = self.act2(x)\n",
    "        x = self.bn2(x)\n",
    "        x = self.pool2(x)\n",
    "        \n",
    "        x = self.conv3(x)\n",
    "        x = self.act3(x)\n",
    "        x = self.bn3(x)\n",
    "        x = self.dp1(x)\n",
    "\n",
    "        x = x.view(x.size(0), x.size(1) * x.size(2) * x.size(3))\n",
    "        x = self.fc1(x)\n",
    "        x = self.act4(x)\n",
    "        x = self.bn4(x)\n",
    "\n",
    "        x = self.fc2(x)\n",
    "        x = self.act5(x)\n",
    "        x = self.bn5(x)\n",
    "        x = self.dp2(x)\n",
    "\n",
    "        x = self.fc3(x)\n",
    "        return x"
   ]
  },
  {
   "cell_type": "markdown",
   "metadata": {
    "id": "Pm7KlpCPazja"
   },
   "source": [
    "# Results"
   ]
  },
  {
   "cell_type": "code",
   "execution_count": null,
   "metadata": {
    "colab": {
     "base_uri": "https://localhost:8080/"
    },
    "id": "1jTasRUtayja",
    "outputId": "c938cc2c-09a7-45bd-a9a6-56239776a780"
   },
   "outputs": [
    {
     "name": "stdout",
     "output_type": "stream",
     "text": [
      "       |       Train        |        Test        |\n",
      "Epoch  |      Loss       Acc|      Loss       Acc|\n",
      "--------------------------------------------------\n",
      "  1/ 10|    1.2429    0.5651|    0.8348    0.7099|\n",
      "  2/ 10|    0.8371    0.7186|    0.7849    0.7331|\n",
      "  3/ 10|    0.6717    0.7752|    0.6443    0.7804|\n",
      "  4/ 10|    0.5344    0.8231|    0.6048    0.7941|\n",
      "  5/ 10|    0.4231    0.8606|    0.6092    0.7968|\n",
      "  6/ 10|    0.3268    0.8904|    0.6466    0.8018|\n",
      "  7/ 10|    0.1865    0.9419|    0.5695    0.8238|\n",
      "  8/ 10|    0.1410    0.9575|    0.5715    0.8227|\n",
      "  9/ 10|    0.1138    0.9671|    0.5823    0.8265|\n",
      " 10/ 10|    0.0973    0.9725|    0.5868    0.8272|\n",
      "--------------------------------------------------\n"
     ]
    }
   ],
   "source": [
    "net, stats = train(CifarNet(), train_loader, test_loader, nepoch=10)\n",
    "report(net, stats, X_test, y_test)"
   ]
  },
  {
   "cell_type": "code",
   "execution_count": null,
   "metadata": {
    "id": "KxDxoeboax8e"
   },
   "outputs": [],
   "source": [
    "torch.save(net, 'CifarNet.pth')"
   ]
  }
 ],
 "metadata": {
  "accelerator": "GPU",
  "colab": {
   "collapsed_sections": [],
   "provenance": []
  },
  "gpuClass": "standard",
  "kernelspec": {
   "display_name": "Python 3 (ipykernel)",
   "language": "python",
   "name": "python3"
  },
  "language_info": {
   "codemirror_mode": {
    "name": "ipython",
    "version": 3
   },
   "file_extension": ".py",
   "mimetype": "text/x-python",
   "name": "python",
   "nbconvert_exporter": "python",
   "pygments_lexer": "ipython3",
   "version": "3.9.12"
  }
 },
 "nbformat": 4,
 "nbformat_minor": 1
}
